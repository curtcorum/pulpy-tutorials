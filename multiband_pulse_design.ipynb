{
 "cells": [
  {
   "cell_type": "markdown",
   "metadata": {},
   "source": [
    "   # Multiband RF Pulse Design with PulPy\n",
    "\n",
    "This notebook builds on the SLR pulse design notebook by multibanding a conventional SLR RF pulse for excitation in a simultaneous multislice imaging sequence. PINS multiband pulse design is also demonstrated."
   ]
  },
  {
   "cell_type": "code",
   "execution_count": null,
   "metadata": {},
   "outputs": [],
   "source": [
    "import numpy as np\n",
    "\n",
    "import pulpy as pp\n",
    "import pulpy.rf as rf\n",
    "\n",
    "import sigpy.plot as pl\n",
    "import scipy.signal as signal\n",
    "import matplotlib.pyplot as pyplot"
   ]
  },
  {
   "cell_type": "markdown",
   "metadata": {},
   "source": [
    "   ## Parameters for a time-bandwidth 4, linear-phase excitation"
   ]
  },
  {
   "cell_type": "code",
   "execution_count": null,
   "metadata": {},
   "outputs": [],
   "source": [
    "tb = 8\n",
    "N = 512\n",
    "d1 = 0.01\n",
    "d2 = 0.01\n",
    "p_type = 'ex'\n",
    "f_type = 'ls'"
   ]
  },
  {
   "cell_type": "markdown",
   "metadata": {},
   "source": [
    "   ## Design the excitation pulse"
   ]
  },
  {
   "cell_type": "code",
   "execution_count": null,
   "metadata": {},
   "outputs": [],
   "source": [
    "pulse = rf.slr.dzrf(N, tb, p_type, f_type, d1, d2, True)\n",
    "pl.LinePlot(pulse, mode='r')"
   ]
  },
  {
   "cell_type": "markdown",
   "metadata": {},
   "source": [
    "## Multiband it"
   ]
  },
  {
   "cell_type": "code",
   "execution_count": null,
   "metadata": {},
   "outputs": [],
   "source": [
    "n_bands = 3\n",
    "phs_type = 'phs_mod' # phsMod, ampMod, or quadMod\n",
    "band_sep = 5*tb # separate by 5 slice widths\n",
    "mb_pulse = rf.multiband.mb_rf(pulse, n_bands, band_sep, phs_type)\n",
    "pl.LinePlot(mb_pulse)"
   ]
  },
  {
   "cell_type": "markdown",
   "metadata": {},
   "source": [
    "## Simulate it"
   ]
  },
  {
   "cell_type": "code",
   "execution_count": null,
   "metadata": {},
   "outputs": [],
   "source": [
    "[a, b] = pp.sim.abrm(mb_pulse, np.arange(-20*tb, 20*tb, 40*tb/2000), True)\n",
    "Mxy = 2*np.multiply(np.conj(a), b)\n",
    "pl.LinePlot(Mxy)"
   ]
  },
  {
   "cell_type": "markdown",
   "metadata": {},
   "source": [
    "# Design a PINS pulse"
   ]
  },
  {
   "cell_type": "code",
   "execution_count": null,
   "metadata": {},
   "outputs": [],
   "source": [
    "sl_sep = 3 # cm\n",
    "sl_thick = 0.3 # cm\n",
    "g_max = 4 # gauss/cm\n",
    "g_slew = 18000 # gauss/cm/s\n",
    "dt = 4e-6 # seconds, dwell time\n",
    "b1_max = 0.18 # gauss\n",
    "[rf_pins, g_pins] = rf.multiband.dz_pins(tb, sl_sep, sl_thick, g_max, g_slew, dt, b1_max, p_type, f_type, d1, d2)"
   ]
  },
  {
   "cell_type": "code",
   "execution_count": null,
   "metadata": {},
   "outputs": [],
   "source": [
    "t = np.arange(0, np.size(rf_pins)) * dt\n",
    "pyplot.figure()\n",
    "pyplot.plot(t * 1000, np.real(rf_pins))\n",
    "pyplot.ylabel('Gauss')\n",
    "pyplot.xlabel('milliseconds')"
   ]
  },
  {
   "cell_type": "code",
   "execution_count": null,
   "metadata": {},
   "outputs": [],
   "source": [
    "pyplot.figure()\n",
    "pyplot.plot(t * 1000, g_pins)\n",
    "pyplot.ylabel('Gauss/cm')\n",
    "pyplot.xlabel('milliseconds')"
   ]
  },
  {
   "cell_type": "code",
   "execution_count": null,
   "metadata": {},
   "outputs": [],
   "source": [
    "# simulate it\n",
    "x = np.reshape(np.arange(-1000, 1000), (2000, 1)) / 1000 * 12 # cm\n",
    "[a, b] = pp.sim.abrm_nd(2 * np.pi * dt * 4258 * rf_pins, x, \n",
    "                        np.reshape(g_pins, (np.size(g_pins), 1)) * 4258 * dt * 2 * np.pi)\n",
    "Mxy = 2 * np.conj(a) * b"
   ]
  },
  {
   "cell_type": "code",
   "execution_count": null,
   "metadata": {},
   "outputs": [],
   "source": [
    "pyplot.figure()\n",
    "pyplot.plot(x, np.abs(Mxy))\n",
    "pyplot.ylabel('|Mxy|')\n",
    "pyplot.xlabel('cm')"
   ]
  },
  {
   "cell_type": "code",
   "execution_count": null,
   "metadata": {},
   "outputs": [],
   "source": []
  }
 ],
 "metadata": {
  "kernelspec": {
   "display_name": "Python 3 (ipykernel)",
   "language": "python",
   "name": "python3"
  },
  "language_info": {
   "codemirror_mode": {
    "name": "ipython",
    "version": 3
   },
   "file_extension": ".py",
   "mimetype": "text/x-python",
   "name": "python",
   "nbconvert_exporter": "python",
   "pygments_lexer": "ipython3",
   "version": "3.9.19"
  }
 },
 "nbformat": 4,
 "nbformat_minor": 4
}
