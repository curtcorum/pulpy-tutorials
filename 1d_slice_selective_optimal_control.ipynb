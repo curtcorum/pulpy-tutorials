{
 "cells": [
  {
   "cell_type": "markdown",
   "metadata": {},
   "source": [
    "This notebook walks through an iterative optimal control pulse design for a large-tip angle RF pulse. The design code iterates through 
    successive steps of simulation of the pulse and gradient descent steps. The output is compared to an SLR pulse."
   ]
  },
  {
   "cell_type": "code",
   "execution_count": null,
   "metadata": {},
   "outputs": [],
   "source": [
    "import numpy as np\n",
    "\n",
    "import pulpy as pp\n",
    "import pulpy.rf as rf\n",
    "\n",
    "import sigpy.plot as pl\n",
    "import scipy.signal as signal\n",
    "import scipy.io as sio\n",
    "import matplotlib.pyplot as pyplot"
   ]
  },
  {
   "cell_type": "code",
   "execution_count": null,
   "metadata": {},
   "outputs": [],
   "source": [
    "N = 256\n",
    "tb = 8 # npoints in pulse, tb of pulse\n",
    "dt = 4e-6 # seconds, sampling rate\n",
    "os = 2 # spatial oversampling factor\n",
    "d1 = 0.01\n",
    "d2 = 0.01 # ripple levels in beta profile\n",
    "\n",
    "dthick = 4 # slice thickness in cm\n",
    "\n",
    "# set mag of gamgdt according to tb + dthick\n",
    "gambar = 4257 # Hz/g\n",
    "gmag = tb/(N*dt)/dthick/gambar\n",
    "\n",
    "# get spatial locs + gradient\n",
    "x = np.arange(0,N*os,1)/N/os-1/2\n",
    "gamgdt = 2*np.pi*gambar*gmag*dt*np.ones(N)\n",
    "\n",
    "# set up target beta pattern\n",
    "d1 = np.sqrt(d1/2) # Mxy -> beta ripple for ex pulse\n",
    "d2 = d2/np.sqrt(2)\n",
    "dib = rf.slr.dinf(d1,d2);\n",
    "ftwb = dib/tb;\n",
    "fb = np.asarray([0, (1-ftwb)*(tb/2), (1+ftwb)*(tb/2), N/2])/N; # freq edges, normalized to 2*nyquist\n",
    "\n",
    "dpass = np.abs(x) < fb[1] # passband mask\n",
    "dstop = np.abs(x) > fb[2] # stopband mask\n",
    "wb = [1, d1/d2]\n",
    "w = dpass + wb[1]/wb[0]*dstop # 'points we care about' mask\n",
    "\n",
    "db = np.sqrt(1/2)*dpass*np.exp(-1j/2*x*2*np.pi) # target beta pattern\n",
    "pyplot.figure()\n",
    "pyplot.plot(np.abs(db))\n",
    "pyplot.figure()\n",
    "pyplot.plot(np.angle(db))\n",
    "pyplot.figure()\n",
    "pyplot.plot(w)\n"
   ]
  },
  {
   "cell_type": "code",
   "execution_count": null,
   "metadata": {},
   "outputs": [],
   "source": [
    "stepsize = 0.001\n",
    "pulse = np.zeros(N, dtype=complex)\n",
    "\n",
    "a = np.exp(1j/2*x/(gambar*dt*gmag)*np.sum(gamgdt))\n",
    "b = np.zeros(a.shape, dtype=complex)\n",
    "\n",
    "eb = b - db\n",
    "iters = 100\n",
    "cost = np.zeros(iters+1)\n",
    "cost[0] = np.real(np.sum(w*np.abs(eb)**2))\n",
    "\n",
    "for ii in range(0, iters, 1):\n",
    "    \n",
    "    # calculate search direction\n",
    "    auxb = w*(b - db)\n",
    "    drf = rf.optcont.deriv(pulse, x/(gambar*dt*gmag), gamgdt, None, auxb, a, b)\n",
    "    drf = 1j*np.imag(drf)\n",
    "    \n",
    "    # get test point\n",
    "    pulse -= stepsize*drf\n",
    "    \n",
    "    # simulate test point\n",
    "    [a,b] = rf.optcont.blochsim(pulse, x/(gambar*dt*gmag), gamgdt)\n",
    "    \n",
    "    # calculate cost\n",
    "    eb = b - db\n",
    "    cost[ii+1] = np.sum(w*np.abs(eb)**2)\n",
    "\n",
    "a_optcont = a\n",
    "b_optcont = b\n"
   ]
  },
  {
   "cell_type": "code",
   "execution_count": null,
   "metadata": {},
   "outputs": [],
   "source": [
    "pyplot.figure()\n",
    "pyplot.plot(np.imag(pulse))\n",
    "pyplot.figure()\n",
    "pyplot.plot(cost)\n",
    "pyplot.title('cost')\n",
    "pyplot.xlabel('iteration #')"
   ]
  },
  {
   "cell_type": "code",
   "execution_count": null,
   "metadata": {},
   "outputs": [],
   "source": [
    "# design an SLR pulse for comparison\n",
    "rfSLR = rf.slr.dzrf(N, tb, 'ex', 'ls', d1, d2)\n",
    "# simulate slr pulse using same blochsim \n",
    "[a, b] = rf.optcont.blochsim(rfSLR, x/(gambar*dt*gmag), gamgdt)\n",
    "# plot EX profile\n",
    "Mxy = 2*np.conj(a)*b\n",
    "Mxy_optcont = 2*np.conj(a_optcont)*b_optcont\n",
    "pyplot.figure()\n",
    "pyplot.plot(np.real(rfSLR))\n",
    "pyplot.figure()\n",
    "pyplot.plot(np.abs(Mxy))\n",
    "pyplot.plot(np.abs(Mxy_optcont))\n",
    "pyplot.legend(['SLR', 'optimal control'])"
   ]
  }
 ],
 "metadata": {
  "kernelspec": {
   "display_name": "Python 3 (ipykernel)",
   "language": "python",
   "name": "python3"
  },
  "language_info": {
   "codemirror_mode": {
    "name": "ipython",
    "version": 3
   },
   "file_extension": ".py",
   "mimetype": "text/x-python",
   "name": "python",
   "nbconvert_exporter": "python",
   "pygments_lexer": "ipython3",
   "version": "3.9.19"
  }
 },
 "nbformat": 4,
 "nbformat_minor": 4
}
