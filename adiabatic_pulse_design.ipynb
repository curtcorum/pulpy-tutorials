{
 "cells": [
  {
   "cell_type": "markdown",
   "metadata": {},
   "source": [
    "This notebook demonstrates the analytic design of a few classes of adiabatic RF pulses - a BIR-4 excitation pulse, a hyperbolic secant inversion pulse, and WURST/GOIA-WURST."
   ]
  },
  {
   "cell_type": "code",
   "execution_count": null,
   "metadata": {},
   "outputs": [],
   "source": [
    "import numpy as np\n",
    "import pulpy as pp\n",
    "import pulpy.rf as rf\n",
    "\n",
    "import scipy.signal as signal\n",
    "import matplotlib.pyplot as pyplot"
   ]
  },
  {
   "cell_type": "markdown",
   "metadata": {},
   "source": [
    "# Design and simulate a 45-degree BIR-4 pulse"
   ]
  },
  {
   "cell_type": "code",
   "execution_count": null,
   "metadata": {},
   "outputs": [],
   "source": [
    "# Design it\n",
    "n = 1176\n",
    "dt = 4e-6\n",
    "dw0 = 100*np.pi/dt/n\n",
    "beta = 10\n",
    "kappa = np.arctan(20)\n",
    "flip = np.pi/4\n",
    "[am_bir, om_bir] = rf.adiabatic.bir4(n, beta, kappa, flip, dw0)"
   ]
  },
  {
   "cell_type": "code",
   "execution_count": null,
   "metadata": {},
   "outputs": [],
   "source": [
    "# Plot it\n",
    "T = n*dt\n",
    "t = np.arange(-T/2,T/2,dt)*1000\n",
    "pyplot.figure()\n",
    "pyplot.plot(t, np.abs(am_bir))\n",
    "pyplot.xlabel('ms')\n",
    "pyplot.ylabel('a.u.')\n",
    "pyplot.title('|AM|')\n",
    "pyplot.figure()\n",
    "pyplot.plot(t, om_bir/(2*np.pi*1000))\n",
    "pyplot.xlabel('ms')\n",
    "pyplot.ylabel('kHz')\n",
    "pyplot.title('FM')"
   ]
  },
  {
   "cell_type": "code",
   "execution_count": null,
   "metadata": {},
   "outputs": [],
   "source": [
    "# Simulate it across B1 amplitudes\n",
    "b1 = np.arange(0, 1, 0.01) # b1 grid we simulate the pulse over, Gauss\n",
    "b1 = np.reshape(b1, (np.size(b1),1))\n",
    "a = np.zeros(np.shape(b1), dtype = 'complex')\n",
    "b = np.zeros(np.shape(b1), dtype = 'complex')\n",
    "for ii in range(0, np.size(b1)):\n",
    "    [a[ii], b[ii]] = pp.sim.abrm_nd(2*np.pi*dt*4258*b1[ii]*am_bir, np.ones(1), dt*np.reshape(om_bir,(np.size(om_bir),1)))\n",
    "Mxy = 2*np.multiply(np.conj(a), b)\n",
    "pyplot.figure()\n",
    "pyplot.plot(b1, np.abs(Mxy))\n",
    "pyplot.xlabel('Gauss')\n",
    "pyplot.ylabel('|Mxy|')"
   ]
  },
  {
   "cell_type": "markdown",
   "metadata": {},
   "source": [
    "# Design a hyperbolic secant inversion pulse"
   ]
  },
  {
   "cell_type": "code",
   "execution_count": null,
   "metadata": {},
   "outputs": [],
   "source": [
    "# Design it\n",
    "n = 512\n",
    "beta = 800\n",
    "mu = 4.9\n",
    "T = 0.012\n",
    "[am_sech, om_sech] = rf.adiabatic.hypsec(n, beta, mu, T)"
   ]
  },
  {
   "cell_type": "code",
   "execution_count": null,
   "metadata": {},
   "outputs": [],
   "source": [
    "# Plot it\n",
    "t = np.arange(-T/2,T/2,T/n)*1000\n",
    "pyplot.figure()\n",
    "pyplot.plot(t, np.abs(am_sech))\n",
    "pyplot.xlabel('ms')\n",
    "pyplot.ylabel('a.u.')\n",
    "pyplot.title('|AM|')\n",
    "pyplot.figure()\n",
    "pyplot.plot(t, om_sech/(2*np.pi))\n",
    "pyplot.xlabel('ms')\n",
    "pyplot.ylabel('Hz')\n",
    "pyplot.title('FM')"
   ]
  },
  {
   "cell_type": "code",
   "execution_count": null,
   "metadata": {},
   "outputs": [],
   "source": [
    "# Simulate it\n",
    "a = np.zeros(np.shape(b1), dtype = 'complex')\n",
    "b = np.zeros(np.shape(b1), dtype = 'complex')\n",
    "for ii in range(0, np.size(b1)):\n",
    "    [a[ii], b[ii]] = pp.sim.abrm_nd(2*np.pi*(T/n)*4258*b1[ii]*am_sech, np.ones(1), T/n*np.reshape(om_sech,(np.size(om_sech),1)))\n",
    "Mz = 1-2*np.abs(b)**2\n",
    "pyplot.figure()\n",
    "pyplot.plot(b1, Mz)\n",
    "pyplot.xlabel('Gauss')\n",
    "pyplot.ylabel('Mz')"
   ]
  },
  {
   "cell_type": "markdown",
   "metadata": {},
   "source": [
    "# Design a WURST pulse"
   ]
  },
  {
   "cell_type": "code",
   "execution_count": null,
   "metadata": {},
   "outputs": [],
   "source": [
    "# Design it\n",
    "n = 1024\n",
    "N_fac = 40\n",
    "bw = 40e3\n",
    "T = 10e-3\n",
    "[am_wurst, om_wurst] = rf.adiabatic.wurst(n, N_fac, bw, T)"
   ]
  },
  {
   "cell_type": "code",
   "execution_count": null,
   "metadata": {},
   "outputs": [],
   "source": [
    "# Plot it\n",
    "t = np.arange(0, n)*T/n\n",
    "pyplot.figure()\n",
    "pyplot.plot(t, am_wurst)\n",
    "pyplot.ylabel('a.u.')\n",
    "pyplot.xlabel('seconds')\n",
    "pyplot.figure()\n",
    "pyplot.plot(t, om_wurst/(2*np.pi))\n",
    "pyplot.ylabel('Hz')\n",
    "pyplot.xlabel('seconds')\n"
   ]
  },
  {
   "cell_type": "code",
   "execution_count": null,
   "metadata": {},
   "outputs": [],
   "source": [
    "# Simulate it across off-resonance frequencies\n",
    "df = np.arange(-40e3, 40e3, 1000) # Hz\n",
    "a = np.zeros((np.size(df), np.size(b1)), dtype = 'complex')\n",
    "b = np.zeros((np.size(df), np.size(b1)), dtype = 'complex')\n",
    "for ii in range(0, np.size(b1)):\n",
    "    [a[:, ii], b[:, ii]] = pp.sim.abrm_hp(2*np.pi*(T/n)*4258*b1[ii]*am_wurst, \n",
    "                                        T/n*om_wurst, np.ones(np.size(df)), df*2*np.pi*(T/n))\n",
    "\n",
    "Mxy = 2*np.conj(a)*b\n",
    "Mz = 1 - 2*np.abs(b)**2\n",
    "\n",
    "pyplot.figure()\n",
    "pyplot.imshow(np.abs(Mxy))"
   ]
  },
  {
   "cell_type": "markdown",
   "metadata": {},
   "source": [
    "# Design a GOIA-WURST Pulse"
   ]
  },
  {
   "cell_type": "code",
   "execution_count": null,
   "metadata": {},
   "outputs": [],
   "source": [
    "# Design it\n",
    "n = 512\n",
    "T = 3.5e-3\n",
    "f = 0.9\n",
    "n_b1 = 16\n",
    "m_grad = 4\n",
    "[am_goia, om_goia, g_goia] = rf.adiabatic.goia_wurst(n, T, f, n_b1, m_grad)"
   ]
  },
  {
   "cell_type": "code",
   "execution_count": null,
   "metadata": {},
   "outputs": [],
   "source": [
    "# Plot it\n",
    "t = np.arange(0, n)*T/n\n",
    "pyplot.figure()\n",
    "pyplot.plot(t, am_goia)\n",
    "pyplot.ylabel('kHz')\n",
    "pyplot.xlabel('seconds')\n",
    "pyplot.figure()\n",
    "pyplot.plot(t, om_goia)\n",
    "pyplot.ylabel('Hz')\n",
    "pyplot.xlabel('seconds')\n",
    "pyplot.figure()\n",
    "pyplot.plot(t, g_goia)\n",
    "pyplot.ylabel('Normalized G')\n",
    "pyplot.xlabel('seconds')"
   ]
  },
  {
   "cell_type": "code",
   "execution_count": null,
   "metadata": {},
   "outputs": [],
   "source": []
  }
 ],
 "metadata": {
  "kernelspec": {
   "display_name": "Python 3 (ipykernel)",
   "language": "python",
   "name": "python3"
  },
  "language_info": {
   "codemirror_mode": {
    "name": "ipython",
    "version": 3
   },
   "file_extension": ".py",
   "mimetype": "text/x-python",
   "name": "python",
   "nbconvert_exporter": "python",
   "pygments_lexer": "ipython3",
   "version": "3.9.19"
  }
 },
 "nbformat": 4,
 "nbformat_minor": 4
}
