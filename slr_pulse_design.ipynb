{
 "cells": [
  {
   "cell_type": "markdown",
   "metadata": {},
   "source": [
    "   # Shinnar-Le Roux RF Pulse Design with PulPy\n",
    "  This notebook walks through the basics of PulPy SLR design, which is based on John Pauly's MATLAB SLR pulse design toolkit. Advanced methods such as pulse root-flipping and recursive SLR design are demonstrated as well."
   ]
  },
  {
   "cell_type": "code",
   "execution_count": null,
   "metadata": {},
   "outputs": [],
   "source": [
    "import numpy as np\n",
    "import pulpy as pp\n",
    "import pulpy.rf as rf\n",
    "\n",
    "\n",
    "import sigpy.plot as pl\n",
    "import scipy.signal as signal\n",
    "import matplotlib.pyplot as pyplot"
   ]
  },
  {
   "cell_type": "markdown",
   "metadata": {},
   "source": [
    "   ## Parameters for a time-bandwidth 4, linear-phase excitation"
   ]
  },
  {
   "cell_type": "code",
   "execution_count": null,
   "metadata": {},
   "outputs": [],
   "source": [
    "tb = 8\n",
    "N = 128\n",
    "d1 = 0.01\n",
    "d2 = 0.01\n",
    "ptype = 'ex'\n",
    "ftype = 'ls'"
   ]
  },
  {
   "cell_type": "markdown",
   "metadata": {},
   "source": [
    "   ## Design the excitation pulse"
   ]
  },
  {
   "cell_type": "code",
   "execution_count": null,
   "metadata": {},
   "outputs": [],
   "source": [
    "pulse = rf.slr.dzrf(N, tb, ptype, ftype, d1, d2, False)\n",
    "pl.LinePlot(pulse, mode='r')"
   ]
  },
  {
   "cell_type": "markdown",
   "metadata": {},
   "source": [
    "## Simulate the excitation pulse's Mxy profile"
   ]
  },
  {
   "cell_type": "code",
   "execution_count": null,
   "metadata": {},
   "outputs": [],
   "source": [
    "[a, b] = pp.sim.abrm(pulse, np.arange(-2*tb, 2*tb, 0.01), True)\n",
    "Mxy = 2*np.multiply(np.conj(a), b)\n",
    "pl.LinePlot(Mxy)"
   ]
  },
  {
   "cell_type": "markdown",
   "metadata": {},
   "source": [
    "## Parameters for a time-bandwidth 8, minimum-phase inversion"
   ]
  },
  {
   "cell_type": "code",
   "execution_count": null,
   "metadata": {},
   "outputs": [],
   "source": [
    "tb = 8\n",
    "N = 128\n",
    "d1 = 0.01\n",
    "d2 = 0.01\n",
    "ptype = 'inv'\n",
    "ftype = 'min'"
   ]
  },
  {
   "cell_type": "markdown",
   "metadata": {},
   "source": [
    "## Design the inversion pulse"
   ]
  },
  {
   "cell_type": "code",
   "execution_count": null,
   "metadata": {},
   "outputs": [],
   "source": [
    "pulse = rf.slr.dzrf(N, tb, ptype, ftype, d1, d2)\n",
    "pl.LinePlot(pulse, mode='r')"
   ]
  },
  {
   "cell_type": "markdown",
   "metadata": {},
   "source": [
    "## Simulate the inversion pulse's Mz profile"
   ]
  },
  {
   "cell_type": "code",
   "execution_count": null,
   "metadata": {},
   "outputs": [],
   "source": [
    "[a, b] = pp.sim.abrm(pulse, np.arange(-2*tb, 2*tb, 0.01))\n",
    "Mz = 1-2*np.abs(b)**2\n",
    "pl.LinePlot(Mz.T, mode='r')\n",
    "print(np.shape(Mz))"
   ]
  },
  {
   "cell_type": "markdown",
   "metadata": {},
   "source": [
    "# Design a root-flipped saturation pulse"
   ]
  },
  {
   "cell_type": "code",
   "execution_count": null,
   "metadata": {},
   "outputs": [],
   "source": [
    "tb = 12\n",
    "N = 128\n",
    "d1 = 0.01\n",
    "d2 = 0.001\n",
    "ptype = 'sat'\n",
    "ftype = 'min'\n",
    "# conventional pulse\n",
    "pulse = rf.slr.dzrf(N, tb, ptype, ftype, d1, d2)\n",
    "pl.LinePlot(pulse, mode='r')"
   ]
  },
  {
   "cell_type": "code",
   "execution_count": null,
   "metadata": {},
   "outputs": [],
   "source": [
    "# root-flipped pulse\n",
    "tb = 12\n",
    "N = 128\n",
    "d1 = 0.01\n",
    "d2 = 0.001\n",
    "flip = np.pi/2\n",
    "ptype = 'sat'\n",
    "[bsf, d1, d2] = rf.slr.calc_ripples(ptype, d1, d2)\n",
    "b = bsf*rf.slr.dzmp(N, tb, d1, d2)\n",
    "b = b[::-1]\n",
    "[pulse, bRootFlipped] = rf.slr.root_flip(b, d1, flip, tb)\n",
    "\n",
    "pyplot.figure()\n",
    "pyplot.plot(np.abs(pulse))"
   ]
  },
  {
   "cell_type": "markdown",
   "metadata": {},
   "source": [
    "# Recursive Pulse Design for a 3-Segment FLEET EPI scan"
   ]
  },
  {
   "cell_type": "code",
   "execution_count": null,
   "metadata": {},
   "outputs": [],
   "source": [
    "# Design the pulses\n",
    "Nseg = 3 # number of EPI segments/RF Pulses\n",
    "tb = 4\n",
    "N = 2000\n",
    "seSeq = True\n",
    "tbRef = 8 # time-bandwidth of ref pulse\n",
    "[pulses, _] = rf.slr.dz_recursive_rf(Nseg, tb, N, seSeq, tbRef)"
   ]
  },
  {
   "cell_type": "code",
   "execution_count": null,
   "metadata": {},
   "outputs": [],
   "source": [
    "# Plot them\n",
    "pl.LinePlot(pulses.T, mode = 'real')"
   ]
  },
  {
   "cell_type": "code",
   "execution_count": null,
   "metadata": {},
   "outputs": [],
   "source": [
    "# Simulate them\n",
    "Mxy = np.zeros((np.size(np.arange(-4*tb, 4*tb, 0.01)), Nseg), dtype = complex)\n",
    "Mz = np.ones(np.size(np.arange(-4*tb, 4*tb, 0.01)))\n",
    "for ii in range(0, Nseg):    \n",
    "    [a, b] = pp.sim.abrm(pulses[:, ii], np.arange(-4*tb, 4*tb, 0.01), True)\n",
    "    Mxy[:, ii] = 2*Mz*np.multiply(np.conj(a),b)\n",
    "    Mz = Mz*(1 - 2*np.abs(b)**2)"
   ]
  },
  {
   "cell_type": "code",
   "execution_count": null,
   "metadata": {},
   "outputs": [],
   "source": [
    "# Plot Mxy profiles\n",
    "pl.LinePlot(Mxy.T)"
   ]
  },
  {
   "cell_type": "code",
   "execution_count": null,
   "metadata": {},
   "outputs": [],
   "source": []
  }
 ],
 "metadata": {
  "kernelspec": {
   "display_name": "Python 3 (ipykernel)",
   "language": "python",
   "name": "python3"
  },
  "language_info": {
   "codemirror_mode": {
    "name": "ipython",
    "version": 3
   },
   "file_extension": ".py",
   "mimetype": "text/x-python",
   "name": "python",
   "nbconvert_exporter": "python",
   "pygments_lexer": "ipython3",
   "version": "3.9.19"
  }
 },
 "nbformat": 4,
 "nbformat_minor": 4
}
