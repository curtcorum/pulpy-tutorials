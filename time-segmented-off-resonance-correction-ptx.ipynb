{
 "cells": [
  {
   "cell_type": "markdown",
   "metadata": {},
   "source": [
    "# Time Segmented Off Resonance Correction with PulPy"
   ]
  },
  {
   "cell_type": "markdown",
   "metadata": {},
   "source": [
    "Off resonance behavior in the presence of time-varying gradients can produce distortion of a desired spatial domain excitation pattern. In this tutorial, we will demonstrate how to use PulPy's time segmented off-resonance correction feature to correct for an off resonance pattern."
   ]
  },
  {
   "cell_type": "markdown",
   "metadata": {},
   "source": [
    "# All imports:"
   ]
  },
  {
   "cell_type": "code",
   "execution_count": null,
   "metadata": {},
   "outputs": [],
   "source": [
    "import sys\n",
    "\n",
    "import numpy as np\n",
    "\n",
    "import pulpy as pp\n",
    "import pulpy.rf as rf\n",
    "import pulpy.grad as grad\n",
    "\n",
    "import scipy as sc\n",
    "import sigpy as sp\n",
    "import sigpy.mri as mr\n",
    "import sigpy.plot as pl\n",
    "import scipy.ndimage.filters as filt\n",
    "import sigpy.mri as mr\n",
    "import matplotlib.pyplot as plt\n"
   ]
  },
  {
   "cell_type": "markdown",
   "metadata": {},
   "source": [
    "# Set up a target excitation pattern:"
   ]
  },
  {
   "cell_type": "code",
   "execution_count": null,
   "metadata": {},
   "outputs": [],
   "source": [
    "dim = 64\n",
    "img_shape = [dim, dim]\n",
    "sens_shape = [8, dim, dim]\n",
    "target = np.zeros((dim,dim), dtype=complex)\n",
    "target[10:54, 20:44] = 1\n",
    "pl.ImagePlot(target)"
   ]
  },
  {
   "cell_type": "markdown",
   "metadata": {},
   "source": [
    "# Simulate Tx coil sensitivities:"
   ]
  },
  {
   "cell_type": "code",
   "execution_count": null,
   "metadata": {},
   "outputs": [],
   "source": [
    "sens = mr.sim.birdcage_maps(sens_shape)\n",
    "pl.ImagePlot(sens)"
   ]
  },
  {
   "cell_type": "markdown",
   "metadata": {},
   "source": [
    "# Create an inhomogeneity pattern:"
   ]
  },
  {
   "cell_type": "code",
   "execution_count": null,
   "metadata": {
    "scrolled": true
   },
   "outputs": [],
   "source": [
    "# inhomogeneity pattern - 2D off-center gaussian\n",
    "x, y = np.ogrid[-img_shape[0] / 2: img_shape[0] - img_shape[0] / 2,\n",
    "       -img_shape[1] / 2: img_shape[1] - img_shape[1] / 2]\n",
    "B0 = np.zeros(img_shape)\n",
    "d = np.sqrt(x * x + y * y)\n",
    "sigma, mu, a = 10, 0.5, 50000\n",
    "B0 = a * np.exp(-((d - mu) ** 2 / (2.0 * sigma ** 2)))\n",
    "B0 = sc.ndimage.shift(B0, -6)\n",
    "pl.ImagePlot(B0)"
   ]
  },
  {
   "cell_type": "markdown",
   "metadata": {},
   "source": [
    "# Create an excitation trajectory:"
   ]
  },
  {
   "cell_type": "code",
   "execution_count": null,
   "metadata": {},
   "outputs": [],
   "source": [
    "dt = 4E-6\n",
    "fov = 0.55  # FOV in m\n",
    "N = dim  # matrix size\n",
    "gslew = 14500  # gradient slew rate in mT/m/ms\n",
    "gamp = 30 # maximum gradient amplitude in mT/m\n",
    "densamp = 10000  # duration of full density sampling (in samples)\n",
    "dentrans = 10000  # duration of transition from low-high density (in samples)\n",
    "R = 0.5  # degree of undersampling of outer region of trajectory- let's oversample by a factor of 2\n",
    "dx = 0.025 # in m\n",
    "rewinder = False\n",
    "# construct a trajectory\n",
    "g, k, t, s = grad.spiral_arch(fov/R,dx,dt,gslew,gamp)\n",
    "plt.plot(np.transpose(k[:,0]))\n",
    "plt.plot(np.transpose(k[:,1]))"
   ]
  },
  {
   "cell_type": "markdown",
   "metadata": {},
   "source": [
    "# Design with off-resonance correction:"
   ]
  },
  {
   "cell_type": "markdown",
   "metadata": {},
   "source": [
    "Now that we have our problem set up: target pattern, known inhomogeneity, and excitation trajectory, the last step to perform before performing the design is to set up our time segmented off resonance correction. This is done with a python dictionary:"
   ]
  },
  {
   "cell_type": "code",
   "execution_count": null,
   "metadata": {},
   "outputs": [],
   "source": [
    "tseg = {'b0': B0, 'dt': dt, 'n_bins': 40, 'lseg': 4}\n"
   ]
  },
  {
   "cell_type": "markdown",
   "metadata": {},
   "source": [
    "Where B0, dt, the number of histogram bins, and the number of time segments used must all be specified. This dictionary is then passed as an argument into our pulse designer."
   ]
  },
  {
   "cell_type": "code",
   "execution_count": null,
   "metadata": {},
   "outputs": [],
   "source": [
    "pulses_noB0 = rf.stspa(target, sens, k, dt, alpha=1, b0=None, phase_update_interval=10, explicit=False,\n",
    "          max_iter=100, tol=1E-9)\n",
    "\n",
    "pulses_B0 = rf.stspa(target, sens, k, dt, alpha=1, tseg=tseg, phase_update_interval=10, explicit=False,\n",
    "          max_iter=100, tol=1E-9)"
   ]
  },
  {
   "cell_type": "code",
   "execution_count": null,
   "metadata": {},
   "outputs": [],
   "source": [
    "pl.LinePlot(pulses_B0)"
   ]
  },
  {
   "cell_type": "markdown",
   "metadata": {},
   "source": [
    "Finally, let's compare the two patterns that were produced: "
   ]
  },
  {
   "cell_type": "code",
   "execution_count": null,
   "metadata": {},
   "outputs": [],
   "source": [
    "A = sp.mri.linop.Sense(sens, k, weights=None, tseg=tseg, ishape=target.shape).H\n"
   ]
  },
  {
   "cell_type": "code",
   "execution_count": null,
   "metadata": {},
   "outputs": [],
   "source": [
    "pl.ImagePlot(A*pulses_noB0)\n"
   ]
  },
  {
   "cell_type": "code",
   "execution_count": null,
   "metadata": {},
   "outputs": [],
   "source": [
    "pl.ImagePlot(A*pulses_B0)\n"
   ]
  },
  {
   "cell_type": "markdown",
   "metadata": {},
   "source": [
    "The distortion is successfully corrected!"
   ]
  }
 ],
 "metadata": {
  "kernelspec": {
   "display_name": "Python 3 (ipykernel)",
   "language": "python",
   "name": "python3"
  },
  "language_info": {
   "codemirror_mode": {
    "name": "ipython",
    "version": 3
   },
   "file_extension": ".py",
   "mimetype": "text/x-python",
   "name": "python",
   "nbconvert_exporter": "python",
   "pygments_lexer": "ipython3",
   "version": "3.9.19"
  }
 },
 "nbformat": 4,
 "nbformat_minor": 4
}
