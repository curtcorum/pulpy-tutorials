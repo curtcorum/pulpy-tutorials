{
 "cells": [
  {
   "cell_type": "markdown",
   "id": "5ff11915-f2bc-462c-afca-93a939a41635",
   "metadata": {},
   "source": [
    "This notebook demonstrates a simple pTx spokes pulse design, using the Grissom interleaved greedy and local approach. Gradient and RF waveforms are designed and plotted."
   ]
  },
  {
   "cell_type": "code",
   "execution_count": null,
   "id": "a9d1466e",
   "metadata": {},
   "outputs": [],
   "source": [
    "# the fundamental sigpy imports: numpy, sigpy (here as submodules)\n",
    "import numpy as np\n",
    "import pulpy.rf as rf\n",
    "import sigpy.plot as pl\n",
    "import scipy.io as sio\n",
    "import matplotlib.pyplot as pyplot"
   ]
  },
  {
   "cell_type": "code",
   "execution_count": null,
   "id": "0b3d9313",
   "metadata": {},
   "outputs": [],
   "source": [
    "dim = 40  # size of the b1 matrix loaded\n",
    "n_spokes = 5\n",
    "fov = 20  # cm\n",
    "dx_max = 2  # cm\n",
    "gts = 4E-6\n",
    "sl_thick = 5  # slice thickness, mm\n",
    "tbw = 4\n",
    "dgdtmax = 18000  # g/cm/s\n",
    "gmax = 2  # g/cm\n",
    "# load masked complex sensitivities - a 4 channel system\n",
    "sens_file = sio.loadmat('data/b1maps_40.mat')\n",
    "sens = np.transpose(sens_file['b1'], (2, 0, 1))  # transpose to Nc dim dim conv\n",
    "pl.ImagePlot(sens, title='Sensitivity profiles')\n"
   ]
  },
  {
   "cell_type": "code",
   "execution_count": null,
   "id": "7526a2b1",
   "metadata": {},
   "outputs": [],
   "source": [
    "target = sens_file['mask'].astype(complex)\n",
    "[pulses, g] = rf.ptx.stspk(target, sens, n_spokes, fov, dx_max, gts, sl_thick, tbw,\n",
    "                 dgdtmax, gmax, alpha=1)\n"
   ]
  },
  {
   "cell_type": "code",
   "execution_count": null,
   "id": "f761e855",
   "metadata": {
    "scrolled": true
   },
   "outputs": [],
   "source": [
    "pyplot.plot(np.real(pulses.T))\n",
    "pyplot.title('Spokes real(RF)')\n",
    "pyplot.ylabel('a.u.')\n",
    "pyplot.xlabel('sample #')\n",
    "pyplot.show()\n",
    "pyplot.plot(np.real(g.T))\n",
    "pyplot.legend(['Gx', 'Gy','Gz'])\n",
    "pyplot.title('Spokes gradients')\n",
    "pyplot.ylabel('G/cm')\n",
    "pyplot.xlabel('sample #')\n",
    "pyplot.show()"
   ]
  }
 ],
 "metadata": {
  "kernelspec": {
   "display_name": "Python 3 (ipykernel)",
   "language": "python",
   "name": "python3"
  },
  "language_info": {
   "codemirror_mode": {
    "name": "ipython",
    "version": 3
   },
   "file_extension": ".py",
   "mimetype": "text/x-python",
   "name": "python",
   "nbconvert_exporter": "python",
   "pygments_lexer": "ipython3",
   "version": "3.9.19"
  }
 },
 "nbformat": 4,
 "nbformat_minor": 5
}
